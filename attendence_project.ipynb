{
 "cells": [
  {
   "cell_type": "code",
   "execution_count": null,
   "id": "recorded-release",
   "metadata": {},
   "outputs": [],
   "source": [
    "import face_recognition\n",
    "import cv2\n",
    "import numpy as np\n",
    "import os\n",
    "from datetime import datetime #for attendence"
   ]
  },
  {
   "cell_type": "code",
   "execution_count": null,
   "id": "difficult-ozone",
   "metadata": {},
   "outputs": [],
   "source": [
    "# First reading the images one by one from the folder using os and then for loop\n",
    "path = 'Imageattendence'\n",
    "images = []\n",
    "classnames = []\n",
    "mylist = os.listdir(path)\n",
    "\n",
    "for cl in mylist:\n",
    "    curimg = cv2.imread(f'{path}/{cl}')\n",
    "    images.append(curimg)\n",
    "    classnames.append(os.path.splitext(cl)[0])\n",
    "\n",
    "print(classnames)\n",
    "print(images)"
   ]
  },
  {
   "cell_type": "code",
   "execution_count": null,
   "id": "acknowledged-stuff",
   "metadata": {},
   "outputs": [],
   "source": [
    "# encoding all the images one by one\n",
    "def imgencod(images):\n",
    "    encodelist=[]\n",
    "    for img in images:\n",
    "        cv2.cvtColor(img, cv2.COLOR_BGR2RGB)\n",
    "        encod = face_recognition.face_encodings(img)[0]\n",
    "        encodelist.append(encod)\n",
    "    return encodelist        \n",
    "    "
   ]
  },
  {
   "cell_type": "code",
   "execution_count": null,
   "id": "golden-confidence",
   "metadata": {},
   "outputs": [],
   "source": [
    "encodelistknown = imgencod(images)\n",
    "print('Encode Complete')"
   ]
  },
  {
   "cell_type": "code",
   "execution_count": null,
   "id": "norman-rendering",
   "metadata": {},
   "outputs": [],
   "source": [
    "# Function to mark the attendence\n",
    "def markattendence(name):\n",
    "    with open('attendence.csv','r+') as f:\n",
    "        mydatalist = f.readlines()\n",
    "        print(mydatalist)\n",
    "        namelist=[] # to enter the attendees names\n",
    "        for line in mydatalist:\n",
    "            entry = line.split(',')\n",
    "            namelist.append(entry[0])\n",
    "        if name not in namelist: # Checking whether a name is already present or not because in that case a double attendence can't be given\n",
    "            now = datetime.now()\n",
    "            dtstring = now.strftime('%H:%M:%S')\n",
    "            f.writelines(f'\\n{name},{dtstring}')\n",
    "    \n",
    "    "
   ]
  },
  {
   "cell_type": "markdown",
   "id": "nominated-chemistry",
   "metadata": {},
   "source": [
    "## Using the webcam to capture a new face for attendence"
   ]
  },
  {
   "cell_type": "code",
   "execution_count": null,
   "id": "bound-boulder",
   "metadata": {},
   "outputs": [],
   "source": [
    "cap = cv2.VideoCapture(0)\n",
    "\n",
    "while True:\n",
    "    caps, frame = cap.read()\n",
    "    imgS = cv2.resize(frame, (0,0), None, 0.25,0.25)\n",
    "    imgS = cv2.cvtColor(imgS, cv2.COLOR_BGR2RGB)\n",
    "    \n",
    "    faceincurframe = face_recognition.face_locations(imgS)\n",
    "    encodscurframe = face_recognition.face_encodings(imgS,faceincurframe)\n",
    "    \n",
    "    for encodface, faceloc in zip(encodscurframe, faceincurframe):\n",
    "        matches = face_recognition.compare_faces(encodelistknown,encodface)\n",
    "        facedis = face_recognition.face_distance(encodelistknown,encodface)\n",
    "        print(facedis)\n",
    "        \n",
    "        matchindex = np.argmin(facedis) # Taking the index with minimum face distance\n",
    "        \n",
    "        # displaying the classname if a match is found\n",
    "        if matches[matchindex]:\n",
    "            name = classnames[matchindex].upper()\n",
    "            print(name)\n",
    "            # Building a rectangle around the face using face location\n",
    "            y1,x2,y2,x1 = faceloc #Getting the coordinates\n",
    "            y1,x2,y2,x1 = y1*4,x2*4,y2*4,x1*4\n",
    "            cv2.rectangle(frame,(x1,y1),(x2,y2),(0,255,0),3)\n",
    "            cv2.rectangle(frame,(x1,y2-35),(x2,y2),(0,255,0),cv2.FILLED)\n",
    "            # Putting the text around the box using opencv\n",
    "            cv2.putText(frame, name,(x1+6,y2-6),cv2.FONT_HERSHEY_COMPLEX,2,(255,255,255),2)\n",
    "            \n",
    "            # Finally calling the function to enter the attendence of this detected person in a csv file\n",
    "            markattendence(name)\n",
    "        \n",
    "    # showing the matched image using opencv\n",
    "    cv2.imshow('webcam',frame)\n",
    "    cv2.waitKey(1)\n",
    "        \n",
    "    \n",
    "    "
   ]
  },
  {
   "cell_type": "code",
   "execution_count": null,
   "id": "pressed-edinburgh",
   "metadata": {},
   "outputs": [],
   "source": []
  }
 ],
 "metadata": {
  "kernelspec": {
   "display_name": "Python 3",
   "language": "python",
   "name": "python3"
  },
  "language_info": {
   "codemirror_mode": {
    "name": "ipython",
    "version": 3
   },
   "file_extension": ".py",
   "mimetype": "text/x-python",
   "name": "python",
   "nbconvert_exporter": "python",
   "pygments_lexer": "ipython3",
   "version": "3.8.3"
  }
 },
 "nbformat": 4,
 "nbformat_minor": 5
}
